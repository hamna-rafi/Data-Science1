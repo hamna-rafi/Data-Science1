{
 "cells": [
  {
   "cell_type": "markdown",
   "id": "9bb17f94",
   "metadata": {},
   "source": [
    "\n",
    "#Data Science Tools and Ecosystem"
   ]
  },
  {
   "cell_type": "markdown",
   "id": "5d506d83",
   "metadata": {},
   "source": [
    "In this notebook, Data Science Tools and Ecosystem are summarized."
   ]
  },
  {
   "cell_type": "markdown",
   "id": "99efb703",
   "metadata": {},
   "source": [
    "**Objectives:**\n",
    "-List popular languages for Data Science.\n",
    "-List popular libraries for Data Science.\n",
    "-List popular arithemetic operations for Data Science.\n"
   ]
  },
  {
   "cell_type": "markdown",
   "id": "2ece85e0",
   "metadata": {},
   "source": [
    "Some of the popular languages that Data Scientists use are:\n",
    "1. Python\n",
    "2. R\n",
    "3. SQL\n",
    "4. Julia\n"
   ]
  },
  {
   "cell_type": "markdown",
   "id": "dfa6d3ae",
   "metadata": {},
   "source": [
    "Some of the commonly used libraries used by Data Scientists include:\n",
    "1. Vegas\n",
    "2. BigDL\n",
    "3. ggplot"
   ]
  },
  {
   "cell_type": "markdown",
   "id": "ecbd1a73",
   "metadata": {},
   "source": [
    "|Data Science Tools|\n",
    "----------------------------\n",
    "|Jupyter Notebook |\n",
    "|VS code|\n",
    "|Jupyter Lab|\n",
    "|Jupyter Lite|\n",
    "|Anaconda|"
   ]
  },
  {
   "cell_type": "markdown",
   "id": "a82422bc",
   "metadata": {},
   "source": [
    "###Below are a few examples of evaluating arithmetic expressions in Python.\n"
   ]
  },
  {
   "cell_type": "code",
   "execution_count": 1,
   "id": "a5211c6b",
   "metadata": {},
   "outputs": [
    {
     "data": {
      "text/plain": [
       "17"
      ]
     },
     "execution_count": 1,
     "metadata": {},
     "output_type": "execute_result"
    }
   ],
   "source": [
    "(3*4)+5\n",
    "# This a simple arithmetic expression to mutiply then add integers"
   ]
  },
  {
   "cell_type": "code",
   "execution_count": 4,
   "id": "43471a04",
   "metadata": {},
   "outputs": [
    {
     "name": "stdout",
     "output_type": "stream",
     "text": [
      "3.3333333333333335\n"
     ]
    }
   ],
   "source": [
    "hours_in_min = 200 / 60\n",
    "print(hours_in_min)"
   ]
  },
  {
   "cell_type": "markdown",
   "id": "bd152513",
   "metadata": {},
   "source": [
    "# #Author: Hamna Rafi"
   ]
  },
  {
   "cell_type": "code",
   "execution_count": null,
   "id": "7ae88c7c",
   "metadata": {},
   "outputs": [],
   "source": []
  }
 ],
 "metadata": {
  "kernelspec": {
   "display_name": "Python 3 (ipykernel)",
   "language": "python",
   "name": "python3"
  },
  "language_info": {
   "codemirror_mode": {
    "name": "ipython",
    "version": 3
   },
   "file_extension": ".py",
   "mimetype": "text/x-python",
   "name": "python",
   "nbconvert_exporter": "python",
   "pygments_lexer": "ipython3",
   "version": "3.11.3"
  }
 },
 "nbformat": 4,
 "nbformat_minor": 5
}
